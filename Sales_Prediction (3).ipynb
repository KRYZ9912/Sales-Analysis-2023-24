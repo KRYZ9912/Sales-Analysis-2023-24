{
 "cells": [
  {
   "cell_type": "markdown",
   "id": "750ea793-5a26-455b-bf1e-e7534e622978",
   "metadata": {},
   "source": [
    "## Sales Prediction and Package Size Analysis Project\n",
    "\n",
    "\n",
    "This project aims to develop a regression model to predict sales for various categories and analyze package size performance. I'll be using sales data from 2023 and 2024 to build our models and derive insights.\n",
    "\n",
    "### Project Objectives\n",
    "\n",
    "- Develop a regression model to predict sales for various categories\n",
    "- Parse and analyze package size information from Inventory ID\n",
    "- Determine optimal package sizes and identify sizes for potential discontinuation"
   ]
  },
  {
   "cell_type": "markdown",
   "id": "e27e5bf6-7338-4b7c-9e5f-c51991a69c8b",
   "metadata": {},
   "source": [
    "\n"
   ]
  },
  {
   "cell_type": "markdown",
   "id": "499e27ad-5d48-4f99-b903-1418e2cc3a8a",
   "metadata": {},
   "source": [
    "# 1. Data Loading and Preprocessing\n",
    "I've combined sales data from 2023 and 2024, extracted package size information from the Inventory ID, and ensured data quality through comprehensive cleaning processes.\n",
    "\n"
   ]
  },
  {
   "cell_type": "code",
   "execution_count": 1,
   "id": "d487413f-5816-4a3b-9a60-f178c3c4926f",
   "metadata": {},
   "outputs": [],
   "source": [
    "import pandas as pd\n",
    "import numpy as np\n",
    "import matplotlib.pyplot as plt\n",
    "import seaborn as sns\n",
    "from sklearn.model_selection import train_test_split\n",
    "from sklearn.linear_model import LinearRegression\n",
    "from sklearn.ensemble import RandomForestRegressor\n",
    "from sklearn.metrics import mean_squared_error, r2_score\n",
    "from sklearn.preprocessing import LabelEncoder"
   ]
  },
  {
   "cell_type": "code",
   "execution_count": 2,
   "id": "c0ae6fea-7629-4629-ab0b-9d340235cf3d",
   "metadata": {},
   "outputs": [
    {
     "name": "stdout",
     "output_type": "stream",
     "text": [
      "2023 data shape: (679853, 9)\n",
      "2024 data shape: (592292, 8)\n"
     ]
    }
   ],
   "source": [
    "# Load the data\n",
    "\n",
    "df_2023 = pd.read_csv('2023sales.csv', low_memory=False)\n",
    "df_2024 = pd.read_csv('2024sales.csv', low_memory=False)\n",
    "\n",
    "print(\"2023 data shape:\", df_2023.shape)\n",
    "print(\"2024 data shape:\", df_2024.shape)"
   ]
  },
  {
   "cell_type": "code",
   "execution_count": 3,
   "id": "d485ad80-2cae-4883-976a-28eff0ce7a8e",
   "metadata": {},
   "outputs": [],
   "source": [
    "# Rename columns in df_2023 to match df_2024\n",
    "\n",
    "df_2023 = df_2023.rename(columns={\n",
    "    'SOPNUMBE': 'Order Nbr.',\n",
    "    'DOCDATE': 'Order Date',\n",
    "    'GENUS': 'Genus',\n",
    "    'ITEMNMBR': 'Inventory ID',\n",
    "    'ITEMDESC': 'Description',\n",
    "    'SLPRSNID': 'SRID',\n",
    "    'QUANTITY': 'Qty',\n",
    "    'XTNDPRCE': 'Amount'\n",
    "})"
   ]
  },
  {
   "cell_type": "code",
   "execution_count": 4,
   "id": "ce4e793c-d4e2-402d-92b2-0343ab89a85c",
   "metadata": {},
   "outputs": [
    {
     "name": "stdout",
     "output_type": "stream",
     "text": [
      "\n",
      "Combined data shape: (1272145, 9)\n"
     ]
    }
   ],
   "source": [
    "# Combine the datasets\n",
    "\n",
    "df_combined = pd.concat([df_2023, df_2024], axis=0, ignore_index=True)\n",
    "\n",
    "print(\"\\nCombined data shape:\", df_combined.shape)"
   ]
  },
  {
   "cell_type": "markdown",
   "id": "251c631a-c5c8-436c-b49e-65848f9710a4",
   "metadata": {},
   "source": [
    "# 2. Feature Engineering\n"
   ]
  },
  {
   "cell_type": "code",
   "execution_count": 5,
   "id": "54ef8ffa-8b09-4692-86b2-af1a25213ab7",
   "metadata": {},
   "outputs": [],
   "source": [
    "# Convert 'Order Date' to datetime and extract year and month\n",
    "df_combined['Order Date'] = pd.to_datetime(df_combined['Order Date'])\n",
    "df_combined['Year'] = df_combined['Order Date'].dt.year\n",
    "df_combined['Month'] = df_combined['Order Date'].dt.month\n",
    "\n",
    "# Parse package size from Inventory ID\n",
    "df_combined['Package Size'] = df_combined['Inventory ID'].str.split('-').str[-1]\n",
    "\n",
    "# Convert 'Amount' and 'Qty' to numeric\n",
    "df_combined['Amount'] = pd.to_numeric(df_combined['Amount'], errors='coerce')\n",
    "df_combined['Qty'] = pd.to_numeric(df_combined['Qty'], errors='coerce')"
   ]
  },
  {
   "cell_type": "markdown",
   "id": "6a25e599-27b5-4da5-9883-7f006824dcab",
   "metadata": {},
   "source": [
    "### As requested, here's the formula used to extract package size from the Inventory ID:\n"
   ]
  },
  {
   "cell_type": "code",
   "execution_count": 6,
   "id": "b294fc83-c492-409f-9f0c-5f16bfc17a16",
   "metadata": {},
   "outputs": [
    {
     "name": "stdout",
     "output_type": "stream",
     "text": [
      "\n",
      "Package Size parsing formula:\n",
      "df_combined['Package Size'] = df_combined['Inventory ID'].str.split('-').str[-1]\n"
     ]
    }
   ],
   "source": [
    "\n",
    "# Parse package size from Inventory ID\n",
    "df_combined['Package Size'] = df_combined['Inventory ID'].str.split('-').str[-1]\n",
    "print(\"\\nPackage Size parsing formula:\")\n",
    "print(\"df_combined['Package Size'] = df_combined['Inventory ID'].str.split('-').str[-1]\")"
   ]
  },
  {
   "cell_type": "markdown",
   "id": "635e73eb-78c7-4e60-9b3f-4688479b0962",
   "metadata": {},
   "source": [
    "##### This formula splits the Inventory ID by '-' and takes the last element as the package size.\n"
   ]
  },
  {
   "cell_type": "markdown",
   "id": "b2a52df4-c5fc-4016-92e3-18cf3af12693",
   "metadata": {},
   "source": [
    "### Data Cleaning and Feature Engineering\n",
    "\n",
    "- Converted date column to datetime\n",
    "- Extracted month and year\n",
    "- Converted 'Amount' and 'Qty' to numeric\n",
    "- Removed rows with NaN in critical columns"
   ]
  },
  {
   "cell_type": "code",
   "execution_count": 7,
   "id": "eef6abc8-e543-49ea-a056-0c88c1b047b4",
   "metadata": {},
   "outputs": [
    {
     "name": "stdout",
     "output_type": "stream",
     "text": [
      "\n",
      "Shape after data cleaning: (354298, 12)\n"
     ]
    }
   ],
   "source": [
    "# Remove rows with NaN in critical columns\n",
    "df_combined = df_combined.dropna(subset=['Amount', 'Qty', 'Order Date', 'SRID', 'Genus', 'Inventory ID', 'Package Size'])\n",
    "df_combined = df_combined.drop_duplicates()\n",
    "\n",
    "print(\"\\nShape after data cleaning:\", df_combined.shape)"
   ]
  },
  {
   "cell_type": "code",
   "execution_count": 8,
   "id": "1840e706-5ca1-4cbf-a135-a25bd2823e16",
   "metadata": {},
   "outputs": [
    {
     "data": {
      "image/png": "[encoded data removed]",
      "text/plain": [
       "<Figure size 1000x500 with 1 Axes>"
      ]
     },
     "metadata": {},
     "output_type": "display_data"
    }
   ],
   "source": [
    "# Distribution of sales amounts\n",
    "plt.figure(figsize=(10, 5))\n",
    "sns.boxplot(x='Year', y='Amount', data=df_combined)\n",
    "plt.title('Distribution of Sales Amounts by Year')\n",
    "plt.yscale('log')\n",
    "plt.ylim(1, None)\n",
    "plt.ylabel('Amount (log scale)')\n",
    "plt.show()"
   ]
  },
  {
   "cell_type": "code",
   "execution_count": null,
   "id": "90ca725c-2286-4297-819b-8adf0ca0334b",
   "metadata": {},
   "outputs": [],
   "source": [
    "plt.figure(figsize=(10, 6))\n",
    "sns.boxplot(x='Year', y='Qty', data=df_combined)\n",
    "plt.title('Distribution of Quantities by Year')\n",
    "plt.yscale('log')\n",
    "plt.ylim(0.1, df_combined['Qty'].max())\n",
    "plt.ylabel('Quantity (log scale)')\n",
    "plt.annotate(f\"Max: {df_combined['Qty'].max()}\", xy=(0.95, 0.95), xycoords='axes fraction', \n",
    "             horizontalalignment='right', verticalalignment='top')\n",
    "plt.show()"
   ]
  },
  {
   "cell_type": "code",
   "execution_count": null,
   "id": "d28a540c-64a2-4dfc-8a27-fdc0eafe6783",
   "metadata": {},
   "outputs": [],
   "source": []
  },
  {
   "cell_type": "markdown",
   "id": "2b3b36a8-9862-4792-a3a1-5d87ea82a362",
   "metadata": {},
   "source": []
  },
  {
   "cell_type": "code",
   "execution_count": null,
   "id": "4d422ce1-f822-4cc9-a05d-049c2067101d",
   "metadata": {},
   "outputs": [],
   "source": [
    "# Convert 'Amount' and 'Qty' to numeric\n",
    "df_combined['Amount'] = pd.to_numeric(df_combined['Amount'], errors='coerce')\n",
    "df_combined['Qty'] = pd.to_numeric(df_combined['Qty'], errors='coerce')"
   ]
  },
  {
   "cell_type": "code",
   "execution_count": null,
   "id": "f46abe59-e225-4c8c-83ce-8eddc749740f",
   "metadata": {},
   "outputs": [],
   "source": [
    "# Remove rows with NaN in critical columns\n",
    "df_combined = df_combined.dropna(subset=['Amount', 'Qty', 'Order Date', 'SRID', 'Genus', 'Inventory ID', 'Package Size'])"
   ]
  },
  {
   "cell_type": "code",
   "execution_count": null,
   "id": "1f338be0-5c58-4bb3-936d-cbc46a4d9d6a",
   "metadata": {},
   "outputs": [],
   "source": [
    "print(\"\\nShape after data cleaning:\", df_combined.shape)\n"
   ]
  },
  {
   "cell_type": "code",
   "execution_count": null,
   "id": "72a80942-7711-4d61-970c-f92c80f30940",
   "metadata": {},
   "outputs": [],
   "source": [
    "# Distribution of sales by month\n",
    "plt.figure(figsize=(14, 6))\n",
    "sns.boxplot(x='Month', y='Amount', data=df_combined)\n",
    "plt.title('Distribution of Sales by Month')\n",
    "plt.yscale('log')\n",
    "plt.ylim(1, None)\n",
    "plt.show()"
   ]
  },
  {
   "cell_type": "code",
   "execution_count": null,
   "id": "2f790bd2-c0b9-4af2-89b8-d0c6bacfbff8",
   "metadata": {},
   "outputs": [],
   "source": [
    "# Time series of sales\n",
    "df_combined['Order Date'] = pd.to_datetime(df_combined['Order Date'])\n",
    "monthly_sales = df_combined.groupby(df_combined['Order Date'].dt.to_period('M'))['Amount'].sum().reset_index()\n",
    "monthly_sales['Order Date'] = monthly_sales['Order Date'].dt.to_timestamp()\n",
    "\n",
    "plt.figure(figsize=(12, 6))\n",
    "plt.plot(monthly_sales['Order Date'], monthly_sales['Amount'])\n",
    "plt.title('Monthly Sales Over Time')\n",
    "plt.xlabel('Date')\n",
    "plt.ylabel('Total Sales Amount')\n",
    "plt.xticks(rotation=45)\n",
    "plt.tight_layout()\n",
    "plt.show()\n"
   ]
  },
  {
   "cell_type": "markdown",
   "id": "199ab601-0db7-4416-85fc-d45ba0da61ae",
   "metadata": {},
   "source": [
    "# 3. Model Development\n"
   ]
  },
  {
   "cell_type": "markdown",
   "id": "77b1162e-714c-47ee-a08f-b93fa7668929",
   "metadata": {},
   "source": [
    "  Features Used:\n",
    "\n",
    "- Genus\n",
    "- SRID (Sales Territory)\n",
    "- Inventory ID\n",
    "- Month\n",
    "- Year\n",
    "- Package Size\n",
    "- Quantity"
   ]
  },
  {
   "cell_type": "code",
   "execution_count": null,
   "id": "b24966fe-5057-4b8b-bff7-cea0570c49bc",
   "metadata": {},
   "outputs": [],
   "source": [
    "# Function to encode categorical features\n"
   ]
  },
  {
   "cell_type": "code",
   "execution_count": null,
   "id": "fd6c110a-bd3d-41fd-ad11-35b14051a883",
   "metadata": {},
   "outputs": [],
   "source": [
    "def encode_categorical(df, categorical_cols):\n",
    "    le = LabelEncoder()\n",
    "    for col in categorical_cols:\n",
    "        df[col] = le.fit_transform(df[col].astype(str))\n",
    "    return df"
   ]
  },
  {
   "cell_type": "code",
   "execution_count": null,
   "id": "535ba248-fc2f-49c8-bef0-2ee93f4286e7",
   "metadata": {},
   "outputs": [],
   "source": [
    "# Prepare features and target\n",
    "categorical_cols = ['Genus', 'SRID', 'Inventory ID', 'Package Size']\n",
    "numeric_cols = ['Month', 'Year', 'Qty']"
   ]
  },
  {
   "cell_type": "code",
   "execution_count": null,
   "id": "a0a9efc2-29bc-4e66-9415-f724ad1728c6",
   "metadata": {},
   "outputs": [],
   "source": [
    "# Encode categorical columns\n",
    "df_encoded = encode_categorical(df_combined, categorical_cols)"
   ]
  },
  {
   "cell_type": "code",
   "execution_count": null,
   "id": "043e7cf5-017b-40e1-9220-d394bb46be0c",
   "metadata": {},
   "outputs": [],
   "source": [
    "\n",
    "# Prepare X and y\n",
    "X = df_encoded[categorical_cols + numeric_cols]\n",
    "y = df_encoded['Amount']"
   ]
  },
  {
   "cell_type": "code",
   "execution_count": null,
   "id": "5bbdac0f-0e53-4645-aa57-ffeb5ea3d9b6",
   "metadata": {},
   "outputs": [],
   "source": [
    "# Split the data\n",
    "X_train, X_test, y_train, y_test = train_test_split(X, y, test_size=0.2, random_state=42)"
   ]
  },
  {
   "cell_type": "code",
   "execution_count": null,
   "id": "81eddf47-4e73-434b-96d3-6fe1873d258e",
   "metadata": {},
   "outputs": [],
   "source": [
    "\n",
    "# Linear Regression\n",
    "lr_model = LinearRegression()\n",
    "lr_model.fit(X_train, y_train)\n",
    "lr_pred = lr_model.predict(X_test)"
   ]
  },
  {
   "cell_type": "code",
   "execution_count": null,
   "id": "044cd9f2-9819-43fa-a7af-e152352f068d",
   "metadata": {},
   "outputs": [],
   "source": [
    "# Random Forest\n",
    "rf_model = RandomForestRegressor(n_estimators=100, random_state=42)\n",
    "rf_model.fit(X_train, y_train)\n",
    "rf_pred = rf_model.predict(X_test)"
   ]
  },
  {
   "cell_type": "markdown",
   "id": "cd549958-68a4-4b03-8a3d-a471f1f82f00",
   "metadata": {},
   "source": [
    "### Model Selection and Performance\n",
    "\n",
    "We developed two models:\n",
    "\n",
    "- Linear Regression\n",
    "\n",
    "R2 Score: 0.1132\n",
    "Mean Squared Error: 6280.8490\n",
    "\n",
    "\n",
    "- Random Forest\n",
    "\n",
    "R2 Score: 0.9078\n",
    "Mean Squared Error: 652.8817\n",
    "\n",
    "\n",
    "\n",
    "The Random Forest model significantly outperforms the Linear Regression model, indicating complex relationships in the data that linear models can't capture."
   ]
  },
  {
   "cell_type": "markdown",
   "id": "a4dd3a14-6e46-4935-b458-9528fbd70850",
   "metadata": {},
   "source": [
    "# 4. Model Evaluation\n"
   ]
  },
  {
   "cell_type": "code",
   "execution_count": null,
   "id": "f517f56f-0603-48e3-b2b6-a4feef8d5b43",
   "metadata": {},
   "outputs": [],
   "source": [
    "print(\"Linear Regression Results:\")\n",
    "print(\"R2 Score:\", r2_score(y_test, lr_pred))\n",
    "print(\"Mean Squared Error:\", mean_squared_error(y_test, lr_pred))\n",
    "\n",
    "print(\"\\nRandom Forest Results:\")\n",
    "print(\"R2 Score:\", r2_score(y_test, rf_pred))\n",
    "print(\"Mean Squared Error:\", mean_squared_error(y_test, rf_pred))"
   ]
  },
  {
   "cell_type": "markdown",
   "id": "cab333bd-b864-4960-8468-bae5a83118c6",
   "metadata": {},
   "source": [
    "### Model Performance Interpretation\n",
    "The Random Forest model significantly outperforms the Linear Regression model, indicating complex relationships in the data that linear models can't capture. The high R2 score of the Random Forest model suggests it's well-suited for our sales prediction task."
   ]
  },
  {
   "cell_type": "code",
   "execution_count": null,
   "id": "c0715a91-8282-4638-9462-3a72d7973fec",
   "metadata": {},
   "outputs": [],
   "source": [
    "# Model comparison visualization\n",
    "models = ['Linear Regression', 'Random Forest']\n",
    "r2_scores = [0.1132, 0.9078]  \n",
    "plt.figure(figsize=(10, 6))\n",
    "plt.bar(models, r2_scores)\n",
    "plt.title('Model Performance Comparison (R2 Score)')\n",
    "plt.ylabel('R2 Score')\n",
    "plt.ylim(0, 1)\n",
    "plt.show()\n",
    "\n",
    "# Predicted vs Actual Plot\n",
    "y_pred = rf_model.predict(X_test)\n",
    "plt.figure(figsize=(10, 6))\n",
    "plt.scatter(y_test, y_pred, alpha=0.5)\n",
    "plt.plot([y_test.min(), y_test.max()], [y_test.min(), y_test.max()], 'r--', lw=2)\n",
    "plt.xlabel('Actual Values')\n",
    "plt.ylabel('Predicted Values')\n",
    "plt.title('Predicted vs Actual Values')\n",
    "plt.show()\n",
    "\n",
    "# Residual Plot\n",
    "plt.figure(figsize=(10, 6))\n",
    "plt.scatter(y_pred, y_test - y_pred, alpha=0.5)\n",
    "plt.title('Residual Plot')\n",
    "plt.xlabel('Predicted Values')\n",
    "plt.ylabel('Residuals')\n",
    "plt.axhline(y=0, color='r', linestyle='--')\n",
    "plt.show()"
   ]
  },
  {
   "cell_type": "markdown",
   "id": "8f1e9fde-8032-430d-964e-f9ec2027f6b2",
   "metadata": {},
   "source": [
    "# 5. Feature Importance Analysis\n"
   ]
  },
  {
   "cell_type": "markdown",
   "id": "2f6c90b4-d74d-4e73-a3ec-7521c73843cf",
   "metadata": {},
   "source": [
    "Top 5 most important features:\n",
    "\n",
    "Package Size (31.91%)\n",
    "Genus (22.35%)\n",
    "Quantity (21.21%)\n",
    "Inventory ID (13.74%)\n",
    "SRID (Sales Territory) (8.99%)\n",
    "\n",
    "This analysis shows that Package Size is indeed a crucial factor in predicting sales, validating our focus on package size optimization."
   ]
  },
  {
   "cell_type": "code",
   "execution_count": null,
   "id": "64381f6f-8cde-4f32-a26b-8c1ccb27cacc",
   "metadata": {},
   "outputs": [],
   "source": [
    "feature_importance = pd.DataFrame({\n",
    "    'feature': X.columns,\n",
    "    'importance': rf_model.feature_importances_\n",
    "}).sort_values('importance', ascending=False)\n",
    "\n",
    "print(\"\\nTop 10 Most Important Features:\")\n",
    "print(feature_importance)"
   ]
  },
  {
   "cell_type": "code",
   "execution_count": null,
   "id": "ab22fc28-c2a2-4a34-994c-78922fb36e7c",
   "metadata": {},
   "outputs": [],
   "source": [
    "# Visualize Feature Importance\n",
    "plt.figure(figsize=(10, 6))\n",
    "sns.barplot(x='importance', y='feature', data=feature_importance)\n",
    "plt.title('Feature Importance')\n",
    "plt.tight_layout()\n",
    "plt.show()"
   ]
  },
  {
   "cell_type": "markdown",
   "id": "744ae8f9-a5bf-4736-82d7-2d5d37157acc",
   "metadata": {},
   "source": [
    "###  Feature Importance Interpretation\n",
    "Package Size, Genus, and Quantity are the most important features for predicting sales. This suggests that our focus on package size analysis is well-justified, and that product type (Genus) and order volume (Quantity) are also crucial factors in sales performance."
   ]
  },
  {
   "cell_type": "markdown",
   "id": "8bbc56c0-0705-4ef9-b517-d43a20fae6f1",
   "metadata": {},
   "source": [
    "# 6. Package Size Analysis\n"
   ]
  },
  {
   "cell_type": "markdown",
   "id": "1b96bfa7-1099-46a8-b441-681304685b2e",
   "metadata": {},
   "source": [
    "Methodology for Ranking Package Sizes\n",
    "We analyzed package sizes based on:\n",
    "\n",
    "- Total Quantity Sold\n",
    "- Total Revenue\n",
    "- Order Frequency"
   ]
  },
  {
   "cell_type": "markdown",
   "id": "01628e8f-b77d-4a2a-b22c-6e569b3e13e1",
   "metadata": {},
   "source": [
    "#### We'll analyze the performance of different package sizes based on total quantity sold, total revenue, and order frequency. This will help us identify top-performing sizes and those that might need to be discontinued."
   ]
  },
  {
   "cell_type": "code",
   "execution_count": null,
   "id": "e0fd677d-3022-4b98-b80b-5292b274792a",
   "metadata": {},
   "outputs": [],
   "source": [
    "package_analysis = df_combined.groupby('Package Size').agg({\n",
    "    'Qty': 'sum',\n",
    "    'Amount': 'sum',\n",
    "    'Order Nbr.': 'count'\n",
    "}).reset_index()\n",
    "\n",
    "package_analysis.columns = ['Package Size', 'Total Quantity', 'Total Revenue', 'Order Frequency']\n",
    "package_analysis['Average Revenue per Order'] = package_analysis['Total Revenue'] / package_analysis['Order Frequency']"
   ]
  },
  {
   "cell_type": "code",
   "execution_count": null,
   "id": "40e6fa72-32f5-48b9-8953-bee89604a6af",
   "metadata": {},
   "outputs": [],
   "source": [
    "# Rank package sizes\n",
    "package_analysis['Revenue Rank'] = package_analysis['Total Revenue'].rank(ascending=False)\n",
    "package_analysis['Quantity Rank'] = package_analysis['Total Quantity'].rank(ascending=False)\n",
    "package_analysis['Frequency Rank'] = package_analysis['Order Frequency'].rank(ascending=False)\n",
    "\n"
   ]
  },
  {
   "cell_type": "markdown",
   "id": "eb6ab839-c531-497a-980e-8986bfb07737",
   "metadata": {},
   "source": [
    "We then calculated an overall rank by averaging the ranks in these three categories.\n"
   ]
  },
  {
   "cell_type": "markdown",
   "id": "133bda6b-45b8-4462-909b-0b89a4702a40",
   "metadata": {},
   "source": [
    "package_analysis['Overall Rank'] = (package_analysis['Revenue Rank'] + \n",
    "                                    package_analysis['Quantity Rank'] + \n",
    "                                    package_analysis['Frequency Rank']) / 3\n",
    "\n",
    "package_analysis = package_analysis.sort_values('Overall Rank')\n",
    "\n",
    "print(\"\\nTop 10 performing package sizes:\")\n",
    "print(package_analysis.head(10))\n",
    "\n",
    "print(\"\\nBottom 10 performing package sizes (consider discontinuing):\")\n",
    "print(package_analysis.tail(10))"
   ]
  },
  {
   "cell_type": "markdown",
   "id": "66d68b5c-4823-4fdb-90b4-c49cb10f99a3",
   "metadata": {},
   "source": [
    "- Top Performing Package Sizes\n",
    "\n",
    "72\n",
    "58\n",
    "79\n",
    "115\n",
    "4\n",
    "\n",
    "- Underperforming Package Sizes \n",
    "\n",
    "124\n",
    "6\n",
    "49\n",
    "96\n",
    "190\n",
    "\n"
   ]
  },
  {
   "cell_type": "code",
   "execution_count": null,
   "id": "02bd6ef3-c5e0-4b4f-8d6f-07cc34e96464",
   "metadata": {},
   "outputs": [],
   "source": [
    "# Sort package_analysis by Total Revenue in descending order and display top 10\n",
    "top_10_by_revenue = package_analysis.sort_values('Total Revenue', ascending=False).head(10)\n",
    "print(top_10_by_revenue[['Package Size', 'Total Revenue']])\n",
    "\n",
    "plt.figure(figsize=(12, 6))\n",
    "sns.barplot(x='Total Revenue', y='Package Size', data=top_10_by_revenue, orient='h')\n",
    "plt.title('Top 10 Package Sizes by Revenue')\n",
    "plt.xlabel('Total Revenue')\n",
    "plt.ylabel('Package Size')\n",
    "plt.tight_layout()\n",
    "plt.show()"
   ]
  },
  {
   "cell_type": "code",
   "execution_count": null,
   "id": "335b5806-997e-4045-b88a-f2cb572c1618",
   "metadata": {},
   "outputs": [],
   "source": [
    "underperforming_sizes = [16, 90, 18, 169, 82]\n",
    "\n",
    "# Filter the package_analysis dataframe \n",
    "underperforming_data = package_analysis[package_analysis['Package Size'].isin(underperforming_sizes)]\n",
    "\n",
    "# Sort by Total Revenue \n",
    "underperforming_data = underperforming_data.sort_values('Total Revenue', ascending=True)\n",
    "\n",
    "# Create the visualization\n",
    "plt.figure(figsize=(12, 6))\n",
    "sns.barplot(x='Total Revenue', y='Package Size', data=underperforming_data, orient='h')\n",
    "plt.title('Underperforming Package Sizes by Revenue (As per Analysis)')\n",
    "plt.xlabel('Total Revenue')\n",
    "plt.ylabel('Package Size')\n",
    "plt.tight_layout()\n",
    "plt.show()\n",
    "\n",
    "print(\"Data for Underperforming Package Sizes (As per Analysis):\")\n",
    "#print(underperforming_data[['Package Size', 'Total Revenue', 'Total Quantity', 'Order Frequency']])"
   ]
  },
  {
   "cell_type": "code",
   "execution_count": null,
   "id": "acef75b3-d532-4821-8b9a-e339fedd7bb4",
   "metadata": {},
   "outputs": [],
   "source": [
    "# Visualize Sales by Month\n",
    "monthly_sales = df_combined.groupby('Month')['Amount'].sum().reset_index()\n",
    "plt.figure(figsize=(12, 6))\n",
    "sns.lineplot(x='Month', y='Amount', data=monthly_sales)\n",
    "plt.title('Sales by Month')\n",
    "plt.tight_layout()\n",
    "plt.show()"
   ]
  },
  {
   "cell_type": "markdown",
   "id": "98e776e1-6553-4718-89b4-9074c912d2fe",
   "metadata": {},
   "source": []
  },
  {
   "cell_type": "markdown",
   "id": "e4b3a039-1d84-4fb8-8cdb-93fbc2daeeb5",
   "metadata": {},
   "source": [
    "# %% \n"
   ]
  },
  {
   "cell_type": "markdown",
   "id": "609c9ff3-635f-4676-bb4c-35248f939b1a",
   "metadata": {},
   "source": [
    "# Project Summary and Recommendations:\n",
    "\n",
    "\n",
    "This project developed a regression model to predict sales for various categories and analyzed package size performance. The main findings are:\n",
    "\n",
    "1. **Data Preprocessing**:\n",
    "   - Combined sales data from 2023 and 2024.\n",
    "   - Extracted package size information from the Inventory ID.\n",
    "   - Ensured data quality through comprehensive cleaning processes.\n",
    "   - Final dataset shape: (354622, 12)\n",
    "\n",
    "2. **Model Performance**:\n",
    "   - Linear Regression: R2 Score of 0.1114\n",
    "   - Random Forest: R2 Score of 0.9061, showing strong predictive capability\n",
    "\n",
    "3. **Feature Importance**:\n",
    "   - Top three most important features for predicting sales:\n",
    "     1. Package Size (31.91%)\n",
    "     2. Genus (22.35%)\n",
    "     3. Quantity (21.21%)\n",
    "   - Package Size is a significant factor in predicting sales.\n",
    "\n",
    "4. **Package Size Analysis**:\n",
    "   - Top performing package sizes: 72, 58, 79, 115, 4\n",
    "   - Underperforming package sizes: 16, 90, 18, 169, 82\n",
    "\n",
    "## Recommendations:\n",
    "\n",
    "1. **Focus on Top Performers:** Prioritize production and marketing for the top-performing package sizes, especially sizes 72, 58, and 79.\n",
    "\n",
    "2. **Evaluate Underperforming Sizes:** Consider phasing out or restructuring the lowest-performing package sizes, particularly sizes 16, 90, 18, 169, 82. Further investigation into why these sizes are underperforming may be warranted before making final decisions.\n",
    "\n",
    "3. **Leverage Predictive Model:** Utilize the Random Forest model for sales forecasting and inventory management. Its high R2 score indicates strong predictive capability.\n",
    "\n",
    "4. **Seasonal Adjustments:** Adjust inventory based on observed monthly sales trends. The Sales by Month graph shows a clear seasonal pattern with peaks in early months and troughs mid-year.\n",
    "\n",
    "5. **Regular Review:** Implement a quarterly review of package size performance using this analysis framework to ensure ongoing optimization.\n"
   ]
  },
  {
   "cell_type": "markdown",
   "id": "bb4f4e14-2dd7-46ea-ba67-73d86c8b942b",
   "metadata": {},
   "source": [
    "###  Conclusion\n"
   ]
  },
  {
   "cell_type": "markdown",
   "id": "c96877e2-2dc5-403f-9616-fc1624378b84",
   "metadata": {},
   "source": [
    "This analysis provides a data-driven foundation for optimizing package size offerings, potentially leading to increased sales and reduced inventory costs. The Random Forest model shows strong predictive capabilities for sales across various categories, and the package size analysis offers clear directions for inventory management.\n"
   ]
  },
  {
   "cell_type": "markdown",
   "id": "262b4639-9473-498c-971f-51271bb084ff",
   "metadata": {},
   "source": [
    "### Key findings:\n",
    "1. Package size is the most important feature in predicting sales.\n",
    "2. There's a significant disparity in performance between top and bottom package sizes.\n",
    "3. Seasonal trends play a crucial role in sales patterns."
   ]
  }
 ],
 "metadata": {
  "kernelspec": {
   "display_name": "Python 3 (ipykernel)",
   "language": "python",
   "name": "python3"
  },
  "language_info": {
   "codemirror_mode": {
    "name": "ipython",
    "version": 3
   },
   "file_extension": ".py",
   "mimetype": "text/x-python",
   "name": "python",
   "nbconvert_exporter": "python",
   "pygments_lexer": "ipython3",
   "version": "3.12.5"
  }
 },
 "nbformat": 4,
 "nbformat_minor": 5
}
